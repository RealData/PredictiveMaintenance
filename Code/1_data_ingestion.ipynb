{
 "cells": [
  {
   "cell_type": "markdown",
   "metadata": {},
   "source": [
    "# Data source\n",
    "\n",
    "The common data elements for predictive maintenance problems can be summarized as follows:\n",
    "\n",
    "* Machine features: The features specific to each individual machine, e.g. engine size, make, model, location, installation date.\n",
    "* Telemetry data: The operating condition data collected from sensors, e.g. temperature, vibration, operating speeds, pressures.\n",
    "* Maintenance history: The repair history of a machine, e.g. maintenance activities or component replacements, this can also include error code or runtime message logs.\n",
    "* Failure history: The failure history of a machine or component of interest.\n",
    "\n",
    "It is possible that failure history is contained within maintenance history, either as in the form of special error codes or order dates for spare parts. In those cases, failures can be extracted from the maintenance data. Additionally, different business domains may have a variety of other data sources that influence failure patterns which are not listed here exhaustively. These should be identified by consulting the domain experts when building predictive models.\n",
    "\n",
    "Some examples of above data elements from use cases are:\n",
    "    \n",
    "**Machine conditions and usage:** Flight routes and times, sensor data collected from aircraft engines, sensor readings from ATM transactions, train events data, sensor readings from wind turbines, elevators and connected cars.\n",
    "    \n",
    "**Machine features:** Circuit breaker technical specifications such as voltage levels, geolocation or car features such as make, model, engine size, tire types, production facility etc.\n",
    "\n",
    "**Failure history:** fight delay dates, aircraft component failure dates and types, ATM cash withdrawal transaction failures, train/elevator door failures, brake disk replacement order dates, wind turbine failure dates and circuit breaker command failures.\n",
    "\n",
    "**Maintenance history:** Flight error logs, ATM transaction error logs, train maintenance records including maintenance type, short description etc. and circuit breaker maintenance records.\n",
    "\n",
    "Given the above data sources, the two main data types we observe in predictive maintenance domain are temporal data and static data. Failure history, machine conditions, repair history, usage history are time series indicated by the timestamp of data collection. Machine and operator specific features, are more static, since they usually describe the technical specifications of machines or operator’s properties.\n",
    "\n",
    "For this scenario, we use a relatively large-scale data to walk the user through the main steps from data ingestion (this Jupyter notebook), feature engineering, model building, and model operationalization and deployment. The code for the entire process is written in PySpark and implemented using Jupyter notebooks within Azure ML Workbench. The selected model is operationalized using Azure Machine Learning Model Management for use in a production environment simulating making realtime failure predictions. \n",
    "\n",
    "# Step 1: Data Ingestion\n",
    "\n",
    "This data aquisiton notebook will download the simulated predicitive maintenance data sets from our GitHub data store. We do some preliminary data cleaning and verification, and store the results as a Spark data frame in an Azure Blob storage container for use in the remaining notebook steps of this analysis.\n",
    "\n",
    "**Note:** This notebook will take about 10-15 minutes to execute all cells, depending on the compute configuration you have setup. Most of this time is spent handling the _telemetry_ data set, which contains about 8.7 million records."
   ]
  },
  {
   "cell_type": "code",
   "execution_count": 2,
   "metadata": {},
   "outputs": [],
   "source": [
    "from azureml.core import Workspace, Experiment "
   ]
  },
  {
   "cell_type": "code",
   "execution_count": 3,
   "metadata": {},
   "outputs": [],
   "source": [
    "from pyspark.sql import SparkSession"
   ]
  },
  {
   "cell_type": "code",
   "execution_count": 4,
   "metadata": {},
   "outputs": [
    {
     "name": "stdout",
     "output_type": "stream",
     "text": [
      "Found the config file in: /data/home/ubuntu/PredictiveMaintenance/aml_config/PredictiveMaintenanceWSConfig.json\n"
     ]
    }
   ],
   "source": [
    "# Load workspace using configuration file \n",
    "ws = Workspace.from_config(path = '../aml_config/PredictiveMaintenanceWSConfig.json') "
   ]
  },
  {
   "cell_type": "code",
   "execution_count": 5,
   "metadata": {},
   "outputs": [],
   "source": [
    "# Data Ingestion will be run within a separate experiment \n",
    "exp = Experiment(name = 'DataIngestion', workspace = ws) "
   ]
  },
  {
   "cell_type": "code",
   "execution_count": 6,
   "metadata": {},
   "outputs": [],
   "source": [
    "# New Run is created \n",
    "run = exp.start_logging() "
   ]
  },
  {
   "cell_type": "code",
   "execution_count": 7,
   "metadata": {},
   "outputs": [],
   "source": [
    "# Now we can log any information we want \n",
    "import time\n",
    "run.log('Starting Data Ingestion', time.asctime(time.localtime(time.time()))) "
   ]
  },
  {
   "cell_type": "code",
   "execution_count": 8,
   "metadata": {},
   "outputs": [],
   "source": [
    "run.tag('Description', 'Data Ingestion') "
   ]
  },
  {
   "cell_type": "code",
   "execution_count": 9,
   "metadata": {},
   "outputs": [],
   "source": [
    "# Enter your Azure blob storage details here \n",
    "ACCOUNT_NAME = \"predictistorageinugjxfr\"\n",
    "\n",
    "# You can find the account key under the _Access Keys_ link in the \n",
    "# [Azure Portal](portal.azure.com) page for your Azure storage container.\n",
    "ACCOUNT_KEY = \"moQjKkXdNdA2xHGuPpC4YdxDeotmTkkm+Pa7zopIHcy1xNhVf5hvU+tO9OQLC3cxVG01IKvEZeSHAOEgmdrV1w==\""
   ]
  },
  {
   "cell_type": "code",
   "execution_count": 10,
   "metadata": {},
   "outputs": [
    {
     "name": "stderr",
     "output_type": "stream",
     "text": [
      "/anaconda/envs/py36/lib/python3.6/site-packages/ggplot/utils.py:81: FutureWarning: pandas.tslib is deprecated and will be removed in a future version.\n",
      "You can access Timestamp as pandas.Timestamp\n",
      "  pd.tslib.Timestamp,\n"
     ]
    }
   ],
   "source": [
    "## Setup our environment by importing required libraries\n",
    "#import time\n",
    "import os\n",
    "import glob\n",
    "import urllib\n",
    "\n",
    "\n",
    "\n",
    "# Read csv file from URL directly\n",
    "import pandas as pd\n",
    "\n",
    "# For Azure blob storage access\n",
    "from azure.storage.blob import BlockBlobService\n",
    "from azure.storage.blob import PublicAccess\n",
    "\n",
    "# For creating some preliminary EDA plots.\n",
    "%matplotlib inline\n",
    "import matplotlib.pyplot as plt\n",
    "from ggplot import *\n",
    "\n",
    "from datetime import datetime\n",
    "\n",
    "# Setup the pyspark environment\n",
    "from pyspark.sql import SparkSession\n",
    "\n",
    "# For logging model evaluation parameters back into the\n",
    "# AML Workbench run history plots.\n",
    "#import logging\n",
    "#from azureml.logging import get_azureml_logger\n",
    "\n",
    "#amllog = logging.getLogger(\"azureml\")\n",
    "#amllog.level = logging.INFO\n",
    "\n",
    "# Turn on cell level logging.\n",
    "#%azureml history on\n",
    "#%azureml history show\n",
    "\n",
    "# Time the notebook execution. \n",
    "# This will only make sense if you \"Run All\" cells\n",
    "tic = time.time()\n",
    "\n",
    "#logger = get_azureml_logger() # logger writes to AMLWorkbench runtime view\n",
    "spark = SparkSession.builder.getOrCreate()\n",
    "\n",
    "# Telemetry\n",
    "#logger.log('amlrealworld.predictivemaintenance.data_ingestion','true') \n",
    "run.log('amlrealworld.predictivemaintenance.data_ingestion', True) "
   ]
  },
  {
   "cell_type": "markdown",
   "metadata": {},
   "source": [
    "### Azure Blob Storage Container\n",
    "\n",
    "We will be storing intermediate results for use between these Jupyter notebooks in an Azure Blob Storage container. Instructions for setting up your Azure Storage account are available within this link (https://docs.microsoft.com/en-us/azure/storage/blobs/storage-python-how-to-use-blob-storage). You will need to copy your account name and account key from the _Access Keys_ area in the portal into the following code block. These credentials will be reused in all four Jupyter notebooks. \n",
    "\n",
    "We will handle creating the containers and writing the data to these containers for each notebook. Further instructions for using Azure Blob storage with AML Workbench are available\n",
    "(https://github.com/Azure/ViennaDocs/blob/master/Documentation/UsingBlobForStorage.md).\n",
    "\n",
    "You will need to enter the **ACCOUNT_NAME** as well as the **ACCOUNT_KEY** in order to access Azure Blob storage account you have created. This notebook will create and store all the resulting data files in a blob container under this account. \n"
   ]
  },
  {
   "cell_type": "code",
   "execution_count": 11,
   "metadata": {},
   "outputs": [
    {
     "data": {
      "text/plain": [
       "True"
      ]
     },
     "execution_count": 11,
     "metadata": {},
     "output_type": "execute_result"
    }
   ],
   "source": [
    "# Enter your Azure blob storage details here \n",
    "# ACCOUNT_NAME = \"\"\n",
    "\n",
    "# You can find the account key under the _Access Keys_ link in the \n",
    "# [Azure Portal](portal.azure.com) page for your Azure storage container.\n",
    "# ACCOUNT_KEY = \"\"\n",
    "\n",
    "#-------------------------------------------------------------------------------------------\n",
    "# We will create this container to hold the results of executing this notebook.\n",
    "# If this container name already exists, we will use that instead, however\n",
    "# This notebook will ERASE ALL CONTENTS.\n",
    "CONTAINER_NAME = \"dataingestion\"\n",
    "\n",
    "# Connect to your blob service     \n",
    "az_blob_service = BlockBlobService(account_name=ACCOUNT_NAME, account_key=ACCOUNT_KEY)\n",
    "\n",
    "# Create a new container if necessary, otherwise you can use an existing container.\n",
    "# This command creates the container if it does not already exist. Else it does nothing.\n",
    "az_blob_service.create_container(CONTAINER_NAME, \n",
    "                                 fail_on_exist=False, \n",
    "                                 public_access=PublicAccess.Container)"
   ]
  },
  {
   "cell_type": "markdown",
   "metadata": {},
   "source": [
    "## Download simulated data sets\n",
    "We will be reusing the raw simulated data files from another tutorial. The notebook automatically downloads these files stored at [Microsoft/SQL-Server-R-Services-Samples GitHub site](https://github.com/Microsoft/SQL-Server-R-Services-Samples/tree/master/PredictiveMaintanenceModelingGuide/Data).\n",
    "\n",
    "The five data files are:\n",
    "\n",
    " * machines.csv\n",
    " * maint.csv\n",
    " * errors.csv\n",
    " * telemetry.csv\n",
    " * failures.csv\n",
    "\n",
    "To get an idea of what is contained in the data, we examine this machine schematic. \n",
    "![Machine schematic](../images/machine.png)\n",
    "\n",
    "There are 1000 machines of four different models. Each machine contains four components of interest, and four sensors measuring voltage, pressure, vibration and rotation. A controller monitors the system and raises alerts for five different error conditions. Maintenance logs indicate when something is done to the machine which does not include a component replacement. A failure is defined by the replacement of a component. \n",
    "\n",
    "This notebook does some preliminary data cleanup, creates summary graphics for each data set to verify the data downloaded correctly, and stores the resulting data sets in the Azure blob container created in the previous section."
   ]
  },
  {
   "cell_type": "code",
   "execution_count": 12,
   "metadata": {},
   "outputs": [],
   "source": [
    "# The raw data is stored on GitHub here:\n",
    "basedataurl = \"http://media.githubusercontent.com/media/Microsoft/SQL-Server-R-Services-Samples/master/PredictiveMaintanenceModelingGuide/Data/\"\n",
    "\n",
    "# We will store each of these data sets in blob storage in an \n",
    "# Azure Storage Container on your Azure subscription.\n",
    "# See https://github.com/Azure/ViennaDocs/blob/master/Documentation/UsingBlobForStorage.md\n",
    "# for details.\n",
    "\n",
    "# These file names detail which blob each files is stored under. \n",
    "MACH_DATA = 'machines_files.parquet'\n",
    "MAINT_DATA = 'maint_files.parquet'\n",
    "ERROR_DATA = 'errors_files.parquet'\n",
    "TELEMETRY_DATA = 'telemetry_files.parquet'\n",
    "FAILURE_DATA = 'failure_files.parquet'\n"
   ]
  },
  {
   "cell_type": "markdown",
   "metadata": {},
   "source": [
    "### Machines data set\n",
    "\n",
    "This simulation tracks a simulated set of 1000 machines over the course of a single year (2015). \n",
    "\n",
    "This data set includes information about each machine: Machine ID, model type and age (years in service). "
   ]
  },
  {
   "cell_type": "code",
   "execution_count": 13,
   "metadata": {},
   "outputs": [
    {
     "name": "stdout",
     "output_type": "stream",
     "text": [
      "machineID    1000\n",
      "model        1000\n",
      "age          1000\n",
      "dtype: int64\n"
     ]
    },
    {
     "data": {
      "text/html": [
       "<div>\n",
       "<style scoped>\n",
       "    .dataframe tbody tr th:only-of-type {\n",
       "        vertical-align: middle;\n",
       "    }\n",
       "\n",
       "    .dataframe tbody tr th {\n",
       "        vertical-align: top;\n",
       "    }\n",
       "\n",
       "    .dataframe thead th {\n",
       "        text-align: right;\n",
       "    }\n",
       "</style>\n",
       "<table border=\"1\" class=\"dataframe\">\n",
       "  <thead>\n",
       "    <tr style=\"text-align: right;\">\n",
       "      <th></th>\n",
       "      <th>machineID</th>\n",
       "      <th>model</th>\n",
       "      <th>age</th>\n",
       "    </tr>\n",
       "  </thead>\n",
       "  <tbody>\n",
       "    <tr>\n",
       "      <th>0</th>\n",
       "      <td>1</td>\n",
       "      <td>model2</td>\n",
       "      <td>18</td>\n",
       "    </tr>\n",
       "    <tr>\n",
       "      <th>1</th>\n",
       "      <td>2</td>\n",
       "      <td>model4</td>\n",
       "      <td>7</td>\n",
       "    </tr>\n",
       "    <tr>\n",
       "      <th>2</th>\n",
       "      <td>3</td>\n",
       "      <td>model3</td>\n",
       "      <td>8</td>\n",
       "    </tr>\n",
       "    <tr>\n",
       "      <th>3</th>\n",
       "      <td>4</td>\n",
       "      <td>model3</td>\n",
       "      <td>7</td>\n",
       "    </tr>\n",
       "    <tr>\n",
       "      <th>4</th>\n",
       "      <td>5</td>\n",
       "      <td>model2</td>\n",
       "      <td>2</td>\n",
       "    </tr>\n",
       "    <tr>\n",
       "      <th>5</th>\n",
       "      <td>6</td>\n",
       "      <td>model3</td>\n",
       "      <td>7</td>\n",
       "    </tr>\n",
       "    <tr>\n",
       "      <th>6</th>\n",
       "      <td>7</td>\n",
       "      <td>model4</td>\n",
       "      <td>20</td>\n",
       "    </tr>\n",
       "    <tr>\n",
       "      <th>7</th>\n",
       "      <td>8</td>\n",
       "      <td>model3</td>\n",
       "      <td>16</td>\n",
       "    </tr>\n",
       "    <tr>\n",
       "      <th>8</th>\n",
       "      <td>9</td>\n",
       "      <td>model1</td>\n",
       "      <td>7</td>\n",
       "    </tr>\n",
       "    <tr>\n",
       "      <th>9</th>\n",
       "      <td>10</td>\n",
       "      <td>model1</td>\n",
       "      <td>10</td>\n",
       "    </tr>\n",
       "  </tbody>\n",
       "</table>\n",
       "</div>"
      ],
      "text/plain": [
       "   machineID   model  age\n",
       "0          1  model2   18\n",
       "1          2  model4    7\n",
       "2          3  model3    8\n",
       "3          4  model3    7\n",
       "4          5  model2    2\n",
       "5          6  model3    7\n",
       "6          7  model4   20\n",
       "7          8  model3   16\n",
       "8          9  model1    7\n",
       "9         10  model1   10"
      ]
     },
     "execution_count": 13,
     "metadata": {},
     "output_type": "execute_result"
    }
   ],
   "source": [
    "# load raw data from the GitHub URL\n",
    "datafile = \"machines.csv\"\n",
    "\n",
    "# Download the file once, and only once.\n",
    "if not os.path.isfile(datafile):\n",
    "    urllib.request.urlretrieve(basedataurl+datafile, datafile)\n",
    "    \n",
    "# Read into pandas\n",
    "machines = pd.read_csv(datafile, encoding='utf-8')\n",
    "\n",
    "print(machines.count())\n",
    "machines.head(10)"
   ]
  },
  {
   "cell_type": "markdown",
   "metadata": {},
   "source": [
    "The following figure plots a histogram of the machines age colored by the specific model."
   ]
  },
  {
   "cell_type": "code",
   "execution_count": 14,
   "metadata": {},
   "outputs": [
    {
     "data": {
      "text/plain": [
       "<matplotlib.legend.Legend at 0x7fd4db2ed2e8>"
      ]
     },
     "execution_count": 14,
     "metadata": {},
     "output_type": "execute_result"
    },
    {
     "data": {
      "image/png": "[encoded data removed]",
      "text/plain": [
       "<Figure size 576x432 with 1 Axes>"
      ]
     },
     "metadata": {
      "needs_background": "light"
     },
     "output_type": "display_data"
    }
   ],
   "source": [
    "plt.figure(figsize=(8, 6))\n",
    "_, bins, _ = plt.hist([machines.loc[machines['model'] == 'model1', 'age'],\n",
    "                       machines.loc[machines['model'] == 'model2', 'age'],\n",
    "                       machines.loc[machines['model'] == 'model3', 'age'],\n",
    "                       machines.loc[machines['model'] == 'model4', 'age']],\n",
    "                       20, stacked=True, label=['model1', 'model2', 'model3', 'model4'])\n",
    "plt.xlabel('Age (yrs)')\n",
    "plt.ylabel('Count')\n",
    "plt.legend()"
   ]
  },
  {
   "cell_type": "markdown",
   "metadata": {},
   "source": [
    "The figure shows how long the collection of machines have been in service. It indicates there are four model types, shown in different colors, and all four models have been in service over the entire 20 years of service. The machine age will be a feature in our analysis, since we expect older machines may have a different set of errors and failures then machines that have not been in service long.\n",
    "\n",
    "Next, we convert the machines data to a Spark dataframe, and verify the data types have converted correctly. "
   ]
  },
  {
   "cell_type": "code",
   "execution_count": 15,
   "metadata": {},
   "outputs": [
    {
     "name": "stdout",
     "output_type": "stream",
     "text": [
      "root\n",
      " |-- machineID: long (nullable = true)\n",
      " |-- model: string (nullable = true)\n",
      " |-- age: long (nullable = true)\n",
      "\n"
     ]
    }
   ],
   "source": [
    "# The data was read in using a Pandas data frame. We'll convert \n",
    "# it to pyspark to ensure it is in a Spark usable form for later \n",
    "# manipulations.\n",
    "mach_spark = spark.createDataFrame(machines, \n",
    "                                   verifySchema=False)\n",
    "\n",
    "# We no longer need th pandas dataframe, so we can release that memory.\n",
    "del machines\n",
    "\n",
    "# Check data type conversions.\n",
    "mach_spark.printSchema()"
   ]
  },
  {
   "cell_type": "markdown",
   "metadata": {},
   "source": [
    "Now we write the spark dataframe to an Azure blob storage container for use in the remaining notebooks of this scenario."
   ]
  },
  {
   "cell_type": "code",
   "execution_count": 16,
   "metadata": {},
   "outputs": [
    {
     "name": "stdout",
     "output_type": "stream",
     "text": [
      "/data/home/ubuntu/PredictiveMaintenance/Code/machines_files.parquet/part-00001-3646feb4-cbb7-4966-a07b-29773f369f6d-c000.snappy.parquet\n",
      "/data/home/ubuntu/PredictiveMaintenance/Code/machines_files.parquet/part-00003-3646feb4-cbb7-4966-a07b-29773f369f6d-c000.snappy.parquet\n",
      "/data/home/ubuntu/PredictiveMaintenance/Code/machines_files.parquet/part-00000-3646feb4-cbb7-4966-a07b-29773f369f6d-c000.snappy.parquet\n",
      "/data/home/ubuntu/PredictiveMaintenance/Code/machines_files.parquet/part-00002-3646feb4-cbb7-4966-a07b-29773f369f6d-c000.snappy.parquet\n",
      "/data/home/ubuntu/PredictiveMaintenance/Code/machines_files.parquet/_SUCCESS\n",
      "Machines files saved!\n"
     ]
    }
   ],
   "source": [
    "# Write the Machine data set to intermediate storage\n",
    "mach_spark.write.mode('overwrite').parquet(MACH_DATA)\n",
    "\n",
    "for blob in az_blob_service.list_blobs(CONTAINER_NAME):\n",
    "    if MACH_DATA in blob.name:\n",
    "        az_blob_service.delete_blob(CONTAINER_NAME, blob.name)\n",
    "\n",
    "# upload the entire folder into blob storage\n",
    "for name in glob.iglob(MACH_DATA + '/*'):\n",
    "    print(os.path.abspath(name))\n",
    "    az_blob_service.create_blob_from_path(CONTAINER_NAME, name, name)\n",
    "\n",
    "print(\"Machines files saved!\")"
   ]
  },
  {
   "cell_type": "markdown",
   "metadata": {},
   "source": [
    "### Errors  data set\n",
    "\n",
    "The error log contains non-breaking errors recorded while the machine is still operational. These errors are not considered failures, though they may be predictive of a future failure event. The error datetime field is rounded to the closest hour since the telemetry data (loaded later) is collected on an hourly rate."
   ]
  },
  {
   "cell_type": "code",
   "execution_count": 17,
   "metadata": {},
   "outputs": [
    {
     "name": "stdout",
     "output_type": "stream",
     "text": [
      "datetime     11967\n",
      "machineID    11967\n",
      "errorID      11967\n",
      "dtype: int64\n"
     ]
    },
    {
     "data": {
      "text/html": [
       "<div>\n",
       "<style scoped>\n",
       "    .dataframe tbody tr th:only-of-type {\n",
       "        vertical-align: middle;\n",
       "    }\n",
       "\n",
       "    .dataframe tbody tr th {\n",
       "        vertical-align: top;\n",
       "    }\n",
       "\n",
       "    .dataframe thead th {\n",
       "        text-align: right;\n",
       "    }\n",
       "</style>\n",
       "<table border=\"1\" class=\"dataframe\">\n",
       "  <thead>\n",
       "    <tr style=\"text-align: right;\">\n",
       "      <th></th>\n",
       "      <th>datetime</th>\n",
       "      <th>machineID</th>\n",
       "      <th>errorID</th>\n",
       "    </tr>\n",
       "  </thead>\n",
       "  <tbody>\n",
       "    <tr>\n",
       "      <th>0</th>\n",
       "      <td>2015-01-06 03:00:00</td>\n",
       "      <td>1</td>\n",
       "      <td>error3</td>\n",
       "    </tr>\n",
       "    <tr>\n",
       "      <th>1</th>\n",
       "      <td>2015-02-03 06:00:00</td>\n",
       "      <td>1</td>\n",
       "      <td>error4</td>\n",
       "    </tr>\n",
       "    <tr>\n",
       "      <th>2</th>\n",
       "      <td>2015-02-21 11:00:00</td>\n",
       "      <td>1</td>\n",
       "      <td>error1</td>\n",
       "    </tr>\n",
       "    <tr>\n",
       "      <th>3</th>\n",
       "      <td>2015-02-21 16:00:00</td>\n",
       "      <td>1</td>\n",
       "      <td>error2</td>\n",
       "    </tr>\n",
       "    <tr>\n",
       "      <th>4</th>\n",
       "      <td>2015-03-20 06:00:00</td>\n",
       "      <td>1</td>\n",
       "      <td>error1</td>\n",
       "    </tr>\n",
       "    <tr>\n",
       "      <th>5</th>\n",
       "      <td>2015-04-04 06:00:00</td>\n",
       "      <td>1</td>\n",
       "      <td>error5</td>\n",
       "    </tr>\n",
       "    <tr>\n",
       "      <th>6</th>\n",
       "      <td>2015-05-04 06:00:00</td>\n",
       "      <td>1</td>\n",
       "      <td>error4</td>\n",
       "    </tr>\n",
       "    <tr>\n",
       "      <th>7</th>\n",
       "      <td>2015-05-19 06:00:00</td>\n",
       "      <td>1</td>\n",
       "      <td>error2</td>\n",
       "    </tr>\n",
       "    <tr>\n",
       "      <th>8</th>\n",
       "      <td>2015-05-19 06:00:00</td>\n",
       "      <td>1</td>\n",
       "      <td>error3</td>\n",
       "    </tr>\n",
       "    <tr>\n",
       "      <th>9</th>\n",
       "      <td>2015-06-03 06:00:00</td>\n",
       "      <td>1</td>\n",
       "      <td>error5</td>\n",
       "    </tr>\n",
       "  </tbody>\n",
       "</table>\n",
       "</div>"
      ],
      "text/plain": [
       "              datetime  machineID errorID\n",
       "0  2015-01-06 03:00:00          1  error3\n",
       "1  2015-02-03 06:00:00          1  error4\n",
       "2  2015-02-21 11:00:00          1  error1\n",
       "3  2015-02-21 16:00:00          1  error2\n",
       "4  2015-03-20 06:00:00          1  error1\n",
       "5  2015-04-04 06:00:00          1  error5\n",
       "6  2015-05-04 06:00:00          1  error4\n",
       "7  2015-05-19 06:00:00          1  error2\n",
       "8  2015-05-19 06:00:00          1  error3\n",
       "9  2015-06-03 06:00:00          1  error5"
      ]
     },
     "execution_count": 17,
     "metadata": {},
     "output_type": "execute_result"
    }
   ],
   "source": [
    "# load raw data from the GitHub URL\n",
    "datafile = \"errors.csv\"\n",
    "\n",
    "# Download the file once, and only once.\n",
    "if not os.path.isfile(datafile):\n",
    "    urllib.request.urlretrieve(basedataurl+datafile, datafile)\n",
    "    \n",
    "# Read into pandas\n",
    "errors = pd.read_csv(datafile, encoding='utf-8')\n",
    "\n",
    "print(errors.count())\n",
    "errors.head(10)"
   ]
  },
  {
   "cell_type": "markdown",
   "metadata": {},
   "source": [
    "The following histogram details the distribution of the errors tracked in the log files. "
   ]
  },
  {
   "cell_type": "code",
   "execution_count": 18,
   "metadata": {},
   "outputs": [
    {
     "name": "stderr",
     "output_type": "stream",
     "text": [
      "/anaconda/envs/py36/lib/python3.6/site-packages/matplotlib/patches.py:83: UserWarning: Setting the 'color' property will overridethe edgecolor or facecolor properties. \n",
      "  warnings.warn(\"Setting the 'color' property will override\"\n",
      "/anaconda/envs/py36/lib/python3.6/site-packages/matplotlib/patches.py:83: UserWarning: Setting the 'color' property will overridethe edgecolor or facecolor properties. \n",
      "  warnings.warn(\"Setting the 'color' property will override\"\n",
      "/anaconda/envs/py36/lib/python3.6/site-packages/matplotlib/patches.py:83: UserWarning: Setting the 'color' property will overridethe edgecolor or facecolor properties. \n",
      "  warnings.warn(\"Setting the 'color' property will override\"\n",
      "/anaconda/envs/py36/lib/python3.6/site-packages/matplotlib/patches.py:83: UserWarning: Setting the 'color' property will overridethe edgecolor or facecolor properties. \n",
      "  warnings.warn(\"Setting the 'color' property will override\"\n",
      "/anaconda/envs/py36/lib/python3.6/site-packages/matplotlib/patches.py:83: UserWarning: Setting the 'color' property will overridethe edgecolor or facecolor properties. \n",
      "  warnings.warn(\"Setting the 'color' property will override\"\n"
     ]
    },
    {
     "data": {
      "image/png": "[encoded data removed]",
      "text/plain": [
       "<Figure size 792x576 with 1 Axes>"
      ]
     },
     "metadata": {},
     "output_type": "display_data"
    },
    {
     "data": {
      "text/plain": [
       "<ggplot: (-9223363252343035893)>"
      ]
     },
     "execution_count": 18,
     "metadata": {},
     "output_type": "execute_result"
    }
   ],
   "source": [
    "# Quick plot to show structure\n",
    "ggplot(aes(x=\"errorID\"), errors) + geom_bar(fill=\"blue\", color=\"black\")"
   ]
  },
  {
   "cell_type": "markdown",
   "metadata": {},
   "source": [
    "The error data consists of a time series (datetime stamped) of error codes thrown by each machine (machineID). The figure shows how many errors occured in each of the five error classes over the entire year. We could split this figure over each individual machine, but with 1000 individuals, the figure would not be very informative.\n",
    "\n",
    "Next, we convert the errors data to a Spark dataframe, and verify the data types have converted correctly. "
   ]
  },
  {
   "cell_type": "code",
   "execution_count": 19,
   "metadata": {},
   "outputs": [
    {
     "name": "stdout",
     "output_type": "stream",
     "text": [
      "root\n",
      " |-- datetime: string (nullable = true)\n",
      " |-- machineID: long (nullable = true)\n",
      " |-- errorID: string (nullable = true)\n",
      "\n"
     ]
    }
   ],
   "source": [
    "# The data was read in using a Pandas data frame. We'll convert \n",
    "# it to pyspark to ensure it is in a Spark usable form for later \n",
    "# manipulations.\n",
    "error_spark = spark.createDataFrame(errors, \n",
    "                               verifySchema=False)\n",
    "\n",
    "# We no longer need the pandas dataframe, so we can release that memory.\n",
    "del errors\n",
    "\n",
    "# Check data type conversions.\n",
    "error_spark.printSchema()"
   ]
  },
  {
   "cell_type": "markdown",
   "metadata": {},
   "source": [
    "Now we write the spark dataframe to an Azure blob storage container for use in the remaining notebooks of this scenario."
   ]
  },
  {
   "cell_type": "code",
   "execution_count": 20,
   "metadata": {},
   "outputs": [
    {
     "name": "stdout",
     "output_type": "stream",
     "text": [
      "/data/home/ubuntu/PredictiveMaintenance/Code/errors_files.parquet/part-00003-159b45e8-9b7b-431b-8075-21db846e19d8-c000.snappy.parquet\n",
      "/data/home/ubuntu/PredictiveMaintenance/Code/errors_files.parquet/part-00000-159b45e8-9b7b-431b-8075-21db846e19d8-c000.snappy.parquet\n",
      "/data/home/ubuntu/PredictiveMaintenance/Code/errors_files.parquet/part-00001-159b45e8-9b7b-431b-8075-21db846e19d8-c000.snappy.parquet\n",
      "/data/home/ubuntu/PredictiveMaintenance/Code/errors_files.parquet/_SUCCESS\n",
      "/data/home/ubuntu/PredictiveMaintenance/Code/errors_files.parquet/part-00002-159b45e8-9b7b-431b-8075-21db846e19d8-c000.snappy.parquet\n",
      "Errors files saved!\n"
     ]
    }
   ],
   "source": [
    "# Write the Errors data set to intermediate storage\n",
    "error_spark.write.mode('overwrite').parquet(ERROR_DATA)\n",
    "for blob in az_blob_service.list_blobs(CONTAINER_NAME):\n",
    "    if ERROR_DATA in blob.name:\n",
    "        az_blob_service.delete_blob(CONTAINER_NAME, blob.name)\n",
    "\n",
    "# upload the entire folder into blob storage\n",
    "for name in glob.iglob(ERROR_DATA + '/*'):\n",
    "    print(os.path.abspath(name))\n",
    "    az_blob_service.create_blob_from_path(CONTAINER_NAME, name, name)\n",
    "\n",
    "print(\"Errors files saved!\")"
   ]
  },
  {
   "cell_type": "markdown",
   "metadata": {},
   "source": [
    "### Maintenance data set\n",
    "\n",
    "The maintenance log contains both scheduled and unscheduled maintenance records. Scheduled maintenance corresponds with  regular inspection of components, unscheduled maintenance may arise from mechanical failure or other performance degradations. A failure record is generated for component replacement in the case  of either maintenance events. Because maintenance events can also be used to infer component life, the maintenance data has been collected over two years (2014, 2015) instead of only over the year of interest (2015)."
   ]
  },
  {
   "cell_type": "code",
   "execution_count": 21,
   "metadata": {},
   "outputs": [
    {
     "name": "stdout",
     "output_type": "stream",
     "text": [
      "datetime     32592\n",
      "machineID    32592\n",
      "comp         32592\n",
      "dtype: int64\n"
     ]
    },
    {
     "data": {
      "text/html": [
       "<div>\n",
       "<style scoped>\n",
       "    .dataframe tbody tr th:only-of-type {\n",
       "        vertical-align: middle;\n",
       "    }\n",
       "\n",
       "    .dataframe tbody tr th {\n",
       "        vertical-align: top;\n",
       "    }\n",
       "\n",
       "    .dataframe thead th {\n",
       "        text-align: right;\n",
       "    }\n",
       "</style>\n",
       "<table border=\"1\" class=\"dataframe\">\n",
       "  <thead>\n",
       "    <tr style=\"text-align: right;\">\n",
       "      <th></th>\n",
       "      <th>datetime</th>\n",
       "      <th>machineID</th>\n",
       "      <th>comp</th>\n",
       "    </tr>\n",
       "  </thead>\n",
       "  <tbody>\n",
       "    <tr>\n",
       "      <th>0</th>\n",
       "      <td>2014-07-01 06:00:00</td>\n",
       "      <td>1</td>\n",
       "      <td>comp4</td>\n",
       "    </tr>\n",
       "    <tr>\n",
       "      <th>1</th>\n",
       "      <td>2014-09-14 06:00:00</td>\n",
       "      <td>1</td>\n",
       "      <td>comp1</td>\n",
       "    </tr>\n",
       "    <tr>\n",
       "      <th>2</th>\n",
       "      <td>2014-09-14 06:00:00</td>\n",
       "      <td>1</td>\n",
       "      <td>comp2</td>\n",
       "    </tr>\n",
       "    <tr>\n",
       "      <th>3</th>\n",
       "      <td>2014-11-13 06:00:00</td>\n",
       "      <td>1</td>\n",
       "      <td>comp3</td>\n",
       "    </tr>\n",
       "    <tr>\n",
       "      <th>4</th>\n",
       "      <td>2015-01-05 06:00:00</td>\n",
       "      <td>1</td>\n",
       "      <td>comp1</td>\n",
       "    </tr>\n",
       "    <tr>\n",
       "      <th>5</th>\n",
       "      <td>2015-01-20 06:00:00</td>\n",
       "      <td>1</td>\n",
       "      <td>comp1</td>\n",
       "    </tr>\n",
       "    <tr>\n",
       "      <th>6</th>\n",
       "      <td>2015-02-04 06:00:00</td>\n",
       "      <td>1</td>\n",
       "      <td>comp3</td>\n",
       "    </tr>\n",
       "    <tr>\n",
       "      <th>7</th>\n",
       "      <td>2015-02-19 06:00:00</td>\n",
       "      <td>1</td>\n",
       "      <td>comp3</td>\n",
       "    </tr>\n",
       "    <tr>\n",
       "      <th>8</th>\n",
       "      <td>2015-03-06 06:00:00</td>\n",
       "      <td>1</td>\n",
       "      <td>comp3</td>\n",
       "    </tr>\n",
       "    <tr>\n",
       "      <th>9</th>\n",
       "      <td>2015-03-21 06:00:00</td>\n",
       "      <td>1</td>\n",
       "      <td>comp1</td>\n",
       "    </tr>\n",
       "    <tr>\n",
       "      <th>10</th>\n",
       "      <td>2015-04-05 06:00:00</td>\n",
       "      <td>1</td>\n",
       "      <td>comp1</td>\n",
       "    </tr>\n",
       "    <tr>\n",
       "      <th>11</th>\n",
       "      <td>2015-04-05 06:00:00</td>\n",
       "      <td>1</td>\n",
       "      <td>comp4</td>\n",
       "    </tr>\n",
       "    <tr>\n",
       "      <th>12</th>\n",
       "      <td>2015-04-20 06:00:00</td>\n",
       "      <td>1</td>\n",
       "      <td>comp1</td>\n",
       "    </tr>\n",
       "    <tr>\n",
       "      <th>13</th>\n",
       "      <td>2015-05-05 06:00:00</td>\n",
       "      <td>1</td>\n",
       "      <td>comp3</td>\n",
       "    </tr>\n",
       "    <tr>\n",
       "      <th>14</th>\n",
       "      <td>2015-05-20 06:00:00</td>\n",
       "      <td>1</td>\n",
       "      <td>comp2</td>\n",
       "    </tr>\n",
       "    <tr>\n",
       "      <th>15</th>\n",
       "      <td>2015-06-04 06:00:00</td>\n",
       "      <td>1</td>\n",
       "      <td>comp4</td>\n",
       "    </tr>\n",
       "    <tr>\n",
       "      <th>16</th>\n",
       "      <td>2015-06-04 06:00:00</td>\n",
       "      <td>1</td>\n",
       "      <td>comp3</td>\n",
       "    </tr>\n",
       "    <tr>\n",
       "      <th>17</th>\n",
       "      <td>2015-06-19 06:00:00</td>\n",
       "      <td>1</td>\n",
       "      <td>comp2</td>\n",
       "    </tr>\n",
       "    <tr>\n",
       "      <th>18</th>\n",
       "      <td>2015-06-19 06:00:00</td>\n",
       "      <td>1</td>\n",
       "      <td>comp4</td>\n",
       "    </tr>\n",
       "    <tr>\n",
       "      <th>19</th>\n",
       "      <td>2015-07-04 06:00:00</td>\n",
       "      <td>1</td>\n",
       "      <td>comp2</td>\n",
       "    </tr>\n",
       "  </tbody>\n",
       "</table>\n",
       "</div>"
      ],
      "text/plain": [
       "               datetime  machineID   comp\n",
       "0   2014-07-01 06:00:00          1  comp4\n",
       "1   2014-09-14 06:00:00          1  comp1\n",
       "2   2014-09-14 06:00:00          1  comp2\n",
       "3   2014-11-13 06:00:00          1  comp3\n",
       "4   2015-01-05 06:00:00          1  comp1\n",
       "5   2015-01-20 06:00:00          1  comp1\n",
       "6   2015-02-04 06:00:00          1  comp3\n",
       "7   2015-02-19 06:00:00          1  comp3\n",
       "8   2015-03-06 06:00:00          1  comp3\n",
       "9   2015-03-21 06:00:00          1  comp1\n",
       "10  2015-04-05 06:00:00          1  comp1\n",
       "11  2015-04-05 06:00:00          1  comp4\n",
       "12  2015-04-20 06:00:00          1  comp1\n",
       "13  2015-05-05 06:00:00          1  comp3\n",
       "14  2015-05-20 06:00:00          1  comp2\n",
       "15  2015-06-04 06:00:00          1  comp4\n",
       "16  2015-06-04 06:00:00          1  comp3\n",
       "17  2015-06-19 06:00:00          1  comp2\n",
       "18  2015-06-19 06:00:00          1  comp4\n",
       "19  2015-07-04 06:00:00          1  comp2"
      ]
     },
     "execution_count": 21,
     "metadata": {},
     "output_type": "execute_result"
    }
   ],
   "source": [
    "# load raw data from the GitHub URL\n",
    "datafile = \"maint.csv\"\n",
    "\n",
    "# Download the file once, and only once.\n",
    "if not os.path.isfile(datafile):\n",
    "    urllib.request.urlretrieve(basedataurl+datafile, datafile)\n",
    "    \n",
    "# Read into pandas\n",
    "maint = pd.read_csv(datafile, encoding='utf-8')\n",
    "\n",
    "print(maint.count())\n",
    "maint.head(20)"
   ]
  },
  {
   "cell_type": "code",
   "execution_count": 22,
   "metadata": {},
   "outputs": [
    {
     "name": "stderr",
     "output_type": "stream",
     "text": [
      "/anaconda/envs/py36/lib/python3.6/site-packages/matplotlib/patches.py:83: UserWarning: Setting the 'color' property will overridethe edgecolor or facecolor properties. \n",
      "  warnings.warn(\"Setting the 'color' property will override\"\n",
      "/anaconda/envs/py36/lib/python3.6/site-packages/matplotlib/patches.py:83: UserWarning: Setting the 'color' property will overridethe edgecolor or facecolor properties. \n",
      "  warnings.warn(\"Setting the 'color' property will override\"\n",
      "/anaconda/envs/py36/lib/python3.6/site-packages/matplotlib/patches.py:83: UserWarning: Setting the 'color' property will overridethe edgecolor or facecolor properties. \n",
      "  warnings.warn(\"Setting the 'color' property will override\"\n",
      "/anaconda/envs/py36/lib/python3.6/site-packages/matplotlib/patches.py:83: UserWarning: Setting the 'color' property will overridethe edgecolor or facecolor properties. \n",
      "  warnings.warn(\"Setting the 'color' property will override\"\n"
     ]
    },
    {
     "data": {
      "image/png": "[encoded data removed]",
      "text/plain": [
       "<Figure size 792x576 with 1 Axes>"
      ]
     },
     "metadata": {},
     "output_type": "display_data"
    },
    {
     "data": {
      "text/plain": [
       "<ggplot: (-9223363252346709381)>"
      ]
     },
     "execution_count": 22,
     "metadata": {},
     "output_type": "execute_result"
    }
   ],
   "source": [
    "# Quick plot to show structure\n",
    "ggplot(aes(x=\"comp\"), maint) + geom_bar(fill=\"blue\", color=\"black\")"
   ]
  },
  {
   "cell_type": "markdown",
   "metadata": {},
   "source": [
    "The figure shows a histogram of component replacements divided into the four component types over the entire maintenance history. It looks like these four components are replaced at similar rates.\n",
    "\n",
    "There are many ways we might want to look at this data including calculating how long each component type lasts, or the time history of component replacements within each machine. This will take some preprocess of the data, which we are delaying until we do the feature engineering steps in the next example notebook.\n",
    "\n",
    "Next, we convert the errors data to a Spark dataframe, and verify the data types have converted correctly. "
   ]
  },
  {
   "cell_type": "code",
   "execution_count": 23,
   "metadata": {},
   "outputs": [
    {
     "name": "stdout",
     "output_type": "stream",
     "text": [
      "root\n",
      " |-- datetime: string (nullable = true)\n",
      " |-- machineID: long (nullable = true)\n",
      " |-- comp: string (nullable = true)\n",
      "\n"
     ]
    }
   ],
   "source": [
    "# The data was read in using a Pandas data frame. We'll convert \n",
    "# it to pyspark to ensure it is in a Spark usable form for later \n",
    "# manipulations.\n",
    "maint_spark = spark.createDataFrame(maint, \n",
    "                              verifySchema=False)\n",
    "\n",
    "# We no longer need the pandas dataframe, so we can release that memory.\n",
    "del maint\n",
    "\n",
    "# Check data type conversions.\n",
    "maint_spark.printSchema()"
   ]
  },
  {
   "cell_type": "markdown",
   "metadata": {},
   "source": [
    "Now we write the spark dataframe to an Azure blob storage container for use in the remaining notebooks of this scenario."
   ]
  },
  {
   "cell_type": "code",
   "execution_count": 24,
   "metadata": {},
   "outputs": [
    {
     "name": "stdout",
     "output_type": "stream",
     "text": [
      "/data/home/ubuntu/PredictiveMaintenance/Code/maint_files.parquet/part-00002-aab26264-1bbf-4c9b-a11f-07571b92ca91-c000.snappy.parquet\n",
      "/data/home/ubuntu/PredictiveMaintenance/Code/maint_files.parquet/part-00003-aab26264-1bbf-4c9b-a11f-07571b92ca91-c000.snappy.parquet\n",
      "/data/home/ubuntu/PredictiveMaintenance/Code/maint_files.parquet/part-00001-aab26264-1bbf-4c9b-a11f-07571b92ca91-c000.snappy.parquet\n",
      "/data/home/ubuntu/PredictiveMaintenance/Code/maint_files.parquet/_SUCCESS\n",
      "/data/home/ubuntu/PredictiveMaintenance/Code/maint_files.parquet/part-00000-aab26264-1bbf-4c9b-a11f-07571b92ca91-c000.snappy.parquet\n",
      "Maintenance files saved!\n"
     ]
    }
   ],
   "source": [
    "# Write the Maintenance data set to intermediate storage\n",
    "maint_spark.write.mode('overwrite').parquet(MAINT_DATA)\n",
    "for blob in az_blob_service.list_blobs(CONTAINER_NAME):\n",
    "    if MAINT_DATA in blob.name:\n",
    "        az_blob_service.delete_blob(CONTAINER_NAME, blob.name)\n",
    "\n",
    "# upload the entire folder into blob storage\n",
    "for name in glob.iglob(MAINT_DATA + '/*'):\n",
    "    print(os.path.abspath(name))\n",
    "    az_blob_service.create_blob_from_path(CONTAINER_NAME, name, name)\n",
    "\n",
    "print(\"Maintenance files saved!\")"
   ]
  },
  {
   "cell_type": "markdown",
   "metadata": {},
   "source": [
    "### Telemetry data set\n",
    "\n",
    "The telemetry time-series data consists of voltage, rotation, pressure, and vibration sensor measurements collected from each  machines in real time. The data is averaged over an hour and stored in the telemetry logs."
   ]
  },
  {
   "cell_type": "code",
   "execution_count": 25,
   "metadata": {},
   "outputs": [
    {
     "name": "stdout",
     "output_type": "stream",
     "text": [
      "datetime     8761000\n",
      "machineID    8761000\n",
      "volt         8761000\n",
      "rotate       8761000\n",
      "pressure     8761000\n",
      "vibration    8761000\n",
      "dtype: int64\n"
     ]
    },
    {
     "data": {
      "text/html": [
       "<div>\n",
       "<style scoped>\n",
       "    .dataframe tbody tr th:only-of-type {\n",
       "        vertical-align: middle;\n",
       "    }\n",
       "\n",
       "    .dataframe tbody tr th {\n",
       "        vertical-align: top;\n",
       "    }\n",
       "\n",
       "    .dataframe thead th {\n",
       "        text-align: right;\n",
       "    }\n",
       "</style>\n",
       "<table border=\"1\" class=\"dataframe\">\n",
       "  <thead>\n",
       "    <tr style=\"text-align: right;\">\n",
       "      <th></th>\n",
       "      <th>datetime</th>\n",
       "      <th>machineID</th>\n",
       "      <th>volt</th>\n",
       "      <th>rotate</th>\n",
       "      <th>pressure</th>\n",
       "      <th>vibration</th>\n",
       "    </tr>\n",
       "  </thead>\n",
       "  <tbody>\n",
       "    <tr>\n",
       "      <th>0</th>\n",
       "      <td>2015-01-01 06:00:00</td>\n",
       "      <td>1</td>\n",
       "      <td>151.919999</td>\n",
       "      <td>530.813578</td>\n",
       "      <td>101.788175</td>\n",
       "      <td>49.604013</td>\n",
       "    </tr>\n",
       "    <tr>\n",
       "      <th>1</th>\n",
       "      <td>2015-01-01 07:00:00</td>\n",
       "      <td>1</td>\n",
       "      <td>174.522001</td>\n",
       "      <td>535.523532</td>\n",
       "      <td>113.256009</td>\n",
       "      <td>41.515905</td>\n",
       "    </tr>\n",
       "    <tr>\n",
       "      <th>2</th>\n",
       "      <td>2015-01-01 08:00:00</td>\n",
       "      <td>1</td>\n",
       "      <td>146.912822</td>\n",
       "      <td>456.080746</td>\n",
       "      <td>107.786965</td>\n",
       "      <td>42.099694</td>\n",
       "    </tr>\n",
       "    <tr>\n",
       "      <th>3</th>\n",
       "      <td>2015-01-01 09:00:00</td>\n",
       "      <td>1</td>\n",
       "      <td>179.530561</td>\n",
       "      <td>503.469990</td>\n",
       "      <td>108.283817</td>\n",
       "      <td>37.847727</td>\n",
       "    </tr>\n",
       "    <tr>\n",
       "      <th>4</th>\n",
       "      <td>2015-01-01 10:00:00</td>\n",
       "      <td>1</td>\n",
       "      <td>180.544277</td>\n",
       "      <td>371.600611</td>\n",
       "      <td>107.553307</td>\n",
       "      <td>41.467880</td>\n",
       "    </tr>\n",
       "    <tr>\n",
       "      <th>5</th>\n",
       "      <td>2015-01-01 11:00:00</td>\n",
       "      <td>1</td>\n",
       "      <td>141.411757</td>\n",
       "      <td>530.857266</td>\n",
       "      <td>87.614001</td>\n",
       "      <td>44.985846</td>\n",
       "    </tr>\n",
       "    <tr>\n",
       "      <th>6</th>\n",
       "      <td>2015-01-01 12:00:00</td>\n",
       "      <td>1</td>\n",
       "      <td>184.083822</td>\n",
       "      <td>450.227529</td>\n",
       "      <td>87.697380</td>\n",
       "      <td>30.831263</td>\n",
       "    </tr>\n",
       "    <tr>\n",
       "      <th>7</th>\n",
       "      <td>2015-01-01 13:00:00</td>\n",
       "      <td>1</td>\n",
       "      <td>166.632618</td>\n",
       "      <td>486.466838</td>\n",
       "      <td>108.067734</td>\n",
       "      <td>50.380054</td>\n",
       "    </tr>\n",
       "    <tr>\n",
       "      <th>8</th>\n",
       "      <td>2015-01-01 14:00:00</td>\n",
       "      <td>1</td>\n",
       "      <td>159.892748</td>\n",
       "      <td>488.968697</td>\n",
       "      <td>102.131884</td>\n",
       "      <td>43.661297</td>\n",
       "    </tr>\n",
       "    <tr>\n",
       "      <th>9</th>\n",
       "      <td>2015-01-01 15:00:00</td>\n",
       "      <td>1</td>\n",
       "      <td>176.686812</td>\n",
       "      <td>508.202759</td>\n",
       "      <td>90.951189</td>\n",
       "      <td>43.039696</td>\n",
       "    </tr>\n",
       "  </tbody>\n",
       "</table>\n",
       "</div>"
      ],
      "text/plain": [
       "              datetime  machineID        volt      rotate    pressure  \\\n",
       "0  2015-01-01 06:00:00          1  151.919999  530.813578  101.788175   \n",
       "1  2015-01-01 07:00:00          1  174.522001  535.523532  113.256009   \n",
       "2  2015-01-01 08:00:00          1  146.912822  456.080746  107.786965   \n",
       "3  2015-01-01 09:00:00          1  179.530561  503.469990  108.283817   \n",
       "4  2015-01-01 10:00:00          1  180.544277  371.600611  107.553307   \n",
       "5  2015-01-01 11:00:00          1  141.411757  530.857266   87.614001   \n",
       "6  2015-01-01 12:00:00          1  184.083822  450.227529   87.697380   \n",
       "7  2015-01-01 13:00:00          1  166.632618  486.466838  108.067734   \n",
       "8  2015-01-01 14:00:00          1  159.892748  488.968697  102.131884   \n",
       "9  2015-01-01 15:00:00          1  176.686812  508.202759   90.951189   \n",
       "\n",
       "   vibration  \n",
       "0  49.604013  \n",
       "1  41.515905  \n",
       "2  42.099694  \n",
       "3  37.847727  \n",
       "4  41.467880  \n",
       "5  44.985846  \n",
       "6  30.831263  \n",
       "7  50.380054  \n",
       "8  43.661297  \n",
       "9  43.039696  "
      ]
     },
     "execution_count": 25,
     "metadata": {},
     "output_type": "execute_result"
    }
   ],
   "source": [
    "# Github has been having some timeout issues. This should fix the problem for this dataset.\n",
    "import socket\n",
    "socket.setdefaulttimeout(30)\n",
    "\n",
    "# load raw data from the GitHub URL\n",
    "datafile = \"telemetry.csv\"\n",
    "\n",
    "# Download the file once, and only once.\n",
    "if not os.path.isfile(datafile):\n",
    "    urllib.request.urlretrieve(basedataurl+datafile, datafile)\n",
    "    \n",
    "# Read into pandas\n",
    "telemetry = pd.read_csv(datafile, encoding='utf-8')\n",
    "\n",
    "# handle missing values\n",
    "# define groups of features \n",
    "features_datetime = ['datetime']\n",
    "features_categorical = ['machineID']\n",
    "features_numeric = list(set(telemetry.columns) - set(features_datetime) - set(features_categorical))\n",
    "\n",
    "# Replace numeric NA with 0\n",
    "telemetry[features_numeric] = telemetry[features_numeric].fillna(0)\n",
    "\n",
    "# Replace categorical NA with 'Unknown'\n",
    "telemetry[features_categorical]  = telemetry[features_categorical].fillna(\"Unknown\")\n",
    "\n",
    "# Counts...\n",
    "print(telemetry.count())\n",
    "\n",
    "# Examine 10 rowzs of data.\n",
    "telemetry.head(10)"
   ]
  },
  {
   "cell_type": "code",
   "execution_count": 26,
   "metadata": {},
   "outputs": [
    {
     "data": {
      "text/plain": [
       "datetime      object\n",
       "machineID      int64\n",
       "volt         float64\n",
       "rotate       float64\n",
       "pressure     float64\n",
       "vibration    float64\n",
       "dtype: object"
      ]
     },
     "execution_count": 26,
     "metadata": {},
     "output_type": "execute_result"
    }
   ],
   "source": [
    "# Check the incoming schema, we want to convert datetime to the correct type.\n",
    "# format datetime field which comes in as string\n",
    "telemetry.dtypes"
   ]
  },
  {
   "cell_type": "markdown",
   "metadata": {},
   "source": [
    "Rather than plot 8.7 million data points, this figure plots a month of measurements for a single machine. This is representative of each feature repeated for every machine over the entire year of sensor data collection."
   ]
  },
  {
   "cell_type": "code",
   "execution_count": 27,
   "metadata": {},
   "outputs": [
    {
     "name": "stderr",
     "output_type": "stream",
     "text": [
      "/anaconda/envs/py36/lib/python3.6/site-packages/ipykernel/__main__.py:4: SettingWithCopyWarning: \n",
      "A value is trying to be set on a copy of a slice from a DataFrame.\n",
      "Try using .loc[row_indexer,col_indexer] = value instead\n",
      "\n",
      "See the caveats in the documentation: http://pandas.pydata.org/pandas-docs/stable/indexing.html#indexing-view-versus-copy\n"
     ]
    },
    {
     "data": {
      "image/png": "[encoded data removed]",
      "text/plain": [
       "<Figure size 792x576 with 4 Axes>"
      ]
     },
     "metadata": {},
     "output_type": "display_data"
    },
    {
     "data": {
      "text/plain": [
       "<ggplot: (-9223363252346709276)>"
      ]
     },
     "execution_count": 27,
     "metadata": {},
     "output_type": "execute_result"
    }
   ],
   "source": [
    "plt_data = telemetry.loc[telemetry['machineID'] == 1]\n",
    "\n",
    "# format datetime field which comes in as string\n",
    "plt_data['datetime'] = pd.to_datetime(plt_data['datetime'], format=\"%Y-%m-%d %H:%M:%S\")\n",
    "\n",
    "\n",
    "# Quick plot to show structure\n",
    "plot_df = plt_data.loc[(plt_data['datetime'] >= pd.to_datetime('2015-02-01')) &\n",
    "                       (plt_data['datetime'] <= pd.to_datetime('2015-03-01'))]\n",
    "\n",
    "plt_data = pd.melt(plot_df, id_vars=['datetime', 'machineID'])\n",
    "\n",
    "ggplot(aes(x=\"datetime\", y=\"value\", color = \"variable\", group=\"variable\"), plt_data) +\\\n",
    "    geom_line() +\\\n",
    "    scale_x_date(labels=date_format('%m-%d')) +\\\n",
    "    facet_grid('variable', scales='free_y')"
   ]
  },
  {
   "cell_type": "markdown",
   "metadata": {},
   "source": [
    "The figure shows one month worth of telemetry sensor data for one machine. Each sensor is shown in it's own panel.\n",
    "\n",
    "Next, we convert the errors data to a Spark dataframe, and verify the data types have converted correctly. "
   ]
  },
  {
   "cell_type": "code",
   "execution_count": 28,
   "metadata": {},
   "outputs": [
    {
     "name": "stdout",
     "output_type": "stream",
     "text": [
      "root\n",
      " |-- datetime: string (nullable = true)\n",
      " |-- machineID: long (nullable = true)\n",
      " |-- volt: double (nullable = true)\n",
      " |-- rotate: double (nullable = true)\n",
      " |-- pressure: double (nullable = true)\n",
      " |-- vibration: double (nullable = true)\n",
      "\n"
     ]
    }
   ],
   "source": [
    "# The data was read in using a Pandas data frame. We'll convert \n",
    "# it to pyspark to ensure it is in a Spark usable form for later \n",
    "# manipulations.\n",
    "# This line takes about 9.5 minutes to run.\n",
    "telemetry_spark = spark.createDataFrame(telemetry, verifySchema=False)\n",
    "\n",
    "# We no longer need the pandas dataframes, so we can release that memory.\n",
    "del telemetry\n",
    "del plt_data\n",
    "del plot_df\n",
    "\n",
    "# Check data type conversions.\n",
    "telemetry_spark.printSchema()"
   ]
  },
  {
   "cell_type": "markdown",
   "metadata": {},
   "source": [
    "Now we write the spark dataframe to an Azure blob storage container for use in the remaining notebooks of this scenario."
   ]
  },
  {
   "cell_type": "code",
   "execution_count": 29,
   "metadata": {},
   "outputs": [
    {
     "name": "stdout",
     "output_type": "stream",
     "text": [
      "/data/home/ubuntu/PredictiveMaintenance/Code/telemetry_files.parquet/part-00001-3368e678-cd9d-44f4-8d65-aab3219abe40-c000.snappy.parquet\n",
      "/data/home/ubuntu/PredictiveMaintenance/Code/telemetry_files.parquet/part-00002-3368e678-cd9d-44f4-8d65-aab3219abe40-c000.snappy.parquet\n",
      "/data/home/ubuntu/PredictiveMaintenance/Code/telemetry_files.parquet/part-00000-3368e678-cd9d-44f4-8d65-aab3219abe40-c000.snappy.parquet\n",
      "/data/home/ubuntu/PredictiveMaintenance/Code/telemetry_files.parquet/_SUCCESS\n",
      "/data/home/ubuntu/PredictiveMaintenance/Code/telemetry_files.parquet/part-00003-3368e678-cd9d-44f4-8d65-aab3219abe40-c000.snappy.parquet\n",
      "Telemetry files saved!\n"
     ]
    }
   ],
   "source": [
    "# Write the telemetry data set to intermediate storage\n",
    "telemetry_spark.write.mode('overwrite').parquet(TELEMETRY_DATA)\n",
    "for blob in az_blob_service.list_blobs(CONTAINER_NAME):\n",
    "    if TELEMETRY_DATA in blob.name:\n",
    "        az_blob_service.delete_blob(CONTAINER_NAME, blob.name)\n",
    "\n",
    "# upload the entire folder into blob storage\n",
    "for name in glob.iglob(TELEMETRY_DATA + '/*'):\n",
    "    print(os.path.abspath(name))\n",
    "    az_blob_service.create_blob_from_path(CONTAINER_NAME, name, name)\n",
    "\n",
    "print(\"Telemetry files saved!\")"
   ]
  },
  {
   "cell_type": "markdown",
   "metadata": {},
   "source": [
    "### Failures data set\n",
    "\n",
    "Failures correspond to component replacements within the maintenance log. Each record contains the Machine ID, component type, and replacement datetime. These records will be used to create the machine learning labels we will be trying to predict."
   ]
  },
  {
   "cell_type": "code",
   "execution_count": 30,
   "metadata": {},
   "outputs": [
    {
     "name": "stdout",
     "output_type": "stream",
     "text": [
      "datetime     6726\n",
      "machineID    6726\n",
      "failure      6726\n",
      "dtype: int64\n"
     ]
    },
    {
     "data": {
      "text/html": [
       "<div>\n",
       "<style scoped>\n",
       "    .dataframe tbody tr th:only-of-type {\n",
       "        vertical-align: middle;\n",
       "    }\n",
       "\n",
       "    .dataframe tbody tr th {\n",
       "        vertical-align: top;\n",
       "    }\n",
       "\n",
       "    .dataframe thead th {\n",
       "        text-align: right;\n",
       "    }\n",
       "</style>\n",
       "<table border=\"1\" class=\"dataframe\">\n",
       "  <thead>\n",
       "    <tr style=\"text-align: right;\">\n",
       "      <th></th>\n",
       "      <th>datetime</th>\n",
       "      <th>machineID</th>\n",
       "      <th>failure</th>\n",
       "    </tr>\n",
       "  </thead>\n",
       "  <tbody>\n",
       "    <tr>\n",
       "      <th>0</th>\n",
       "      <td>2015-02-04 06:00:00</td>\n",
       "      <td>1</td>\n",
       "      <td>comp3</td>\n",
       "    </tr>\n",
       "    <tr>\n",
       "      <th>1</th>\n",
       "      <td>2015-03-21 06:00:00</td>\n",
       "      <td>1</td>\n",
       "      <td>comp1</td>\n",
       "    </tr>\n",
       "    <tr>\n",
       "      <th>2</th>\n",
       "      <td>2015-04-05 06:00:00</td>\n",
       "      <td>1</td>\n",
       "      <td>comp4</td>\n",
       "    </tr>\n",
       "    <tr>\n",
       "      <th>3</th>\n",
       "      <td>2015-05-05 06:00:00</td>\n",
       "      <td>1</td>\n",
       "      <td>comp3</td>\n",
       "    </tr>\n",
       "    <tr>\n",
       "      <th>4</th>\n",
       "      <td>2015-05-20 06:00:00</td>\n",
       "      <td>1</td>\n",
       "      <td>comp2</td>\n",
       "    </tr>\n",
       "    <tr>\n",
       "      <th>5</th>\n",
       "      <td>2015-06-04 06:00:00</td>\n",
       "      <td>1</td>\n",
       "      <td>comp4</td>\n",
       "    </tr>\n",
       "    <tr>\n",
       "      <th>6</th>\n",
       "      <td>2015-06-19 06:00:00</td>\n",
       "      <td>1</td>\n",
       "      <td>comp2</td>\n",
       "    </tr>\n",
       "    <tr>\n",
       "      <th>7</th>\n",
       "      <td>2015-08-03 06:00:00</td>\n",
       "      <td>1</td>\n",
       "      <td>comp3</td>\n",
       "    </tr>\n",
       "    <tr>\n",
       "      <th>8</th>\n",
       "      <td>2015-08-03 06:00:00</td>\n",
       "      <td>1</td>\n",
       "      <td>comp4</td>\n",
       "    </tr>\n",
       "    <tr>\n",
       "      <th>9</th>\n",
       "      <td>2015-11-01 06:00:00</td>\n",
       "      <td>1</td>\n",
       "      <td>comp4</td>\n",
       "    </tr>\n",
       "  </tbody>\n",
       "</table>\n",
       "</div>"
      ],
      "text/plain": [
       "              datetime  machineID failure\n",
       "0  2015-02-04 06:00:00          1   comp3\n",
       "1  2015-03-21 06:00:00          1   comp1\n",
       "2  2015-04-05 06:00:00          1   comp4\n",
       "3  2015-05-05 06:00:00          1   comp3\n",
       "4  2015-05-20 06:00:00          1   comp2\n",
       "5  2015-06-04 06:00:00          1   comp4\n",
       "6  2015-06-19 06:00:00          1   comp2\n",
       "7  2015-08-03 06:00:00          1   comp3\n",
       "8  2015-08-03 06:00:00          1   comp4\n",
       "9  2015-11-01 06:00:00          1   comp4"
      ]
     },
     "execution_count": 30,
     "metadata": {},
     "output_type": "execute_result"
    }
   ],
   "source": [
    "# load raw data from the GitHub URL\n",
    "datafile = \"failures.csv\"\n",
    "\n",
    "# Download the file once, and only once.\n",
    "if not os.path.isfile(datafile):\n",
    "    urllib.request.urlretrieve(basedataurl+datafile, datafile)\n",
    "    \n",
    "# Read into pandas\n",
    "failures = pd.read_csv(datafile, encoding='utf-8')\n",
    "\n",
    "print(failures.count())\n",
    "failures.head(10)"
   ]
  },
  {
   "cell_type": "markdown",
   "metadata": {},
   "source": [
    "The following histogram details the distribution of the failure records obtained from failure log. This log was built originally from component replacements the maintenance log file. "
   ]
  },
  {
   "cell_type": "code",
   "execution_count": 31,
   "metadata": {
    "scrolled": true
   },
   "outputs": [
    {
     "name": "stderr",
     "output_type": "stream",
     "text": [
      "/anaconda/envs/py36/lib/python3.6/site-packages/matplotlib/patches.py:83: UserWarning: Setting the 'color' property will overridethe edgecolor or facecolor properties. \n",
      "  warnings.warn(\"Setting the 'color' property will override\"\n",
      "/anaconda/envs/py36/lib/python3.6/site-packages/matplotlib/patches.py:83: UserWarning: Setting the 'color' property will overridethe edgecolor or facecolor properties. \n",
      "  warnings.warn(\"Setting the 'color' property will override\"\n",
      "/anaconda/envs/py36/lib/python3.6/site-packages/matplotlib/patches.py:83: UserWarning: Setting the 'color' property will overridethe edgecolor or facecolor properties. \n",
      "  warnings.warn(\"Setting the 'color' property will override\"\n",
      "/anaconda/envs/py36/lib/python3.6/site-packages/matplotlib/patches.py:83: UserWarning: Setting the 'color' property will overridethe edgecolor or facecolor properties. \n",
      "  warnings.warn(\"Setting the 'color' property will override\"\n"
     ]
    },
    {
     "data": {
      "image/png": "[encoded data removed]",
      "text/plain": [
       "<Figure size 792x576 with 1 Axes>"
      ]
     },
     "metadata": {},
     "output_type": "display_data"
    },
    {
     "data": {
      "text/plain": [
       "<ggplot: (8784507357665)>"
      ]
     },
     "execution_count": 31,
     "metadata": {},
     "output_type": "execute_result"
    }
   ],
   "source": [
    "# Plot failures\n",
    "ggplot(aes(x=\"failure\"), failures) + geom_bar(fill=\"blue\", color=\"black\")"
   ]
  },
  {
   "cell_type": "markdown",
   "metadata": {},
   "source": [
    "The figure shows failure related replacements occured for each of the 4 component types over the entire year.\n",
    "\n",
    "Next, we convert the maintenance data to PySpark and store it in an Azure blob."
   ]
  },
  {
   "cell_type": "code",
   "execution_count": 32,
   "metadata": {},
   "outputs": [
    {
     "name": "stdout",
     "output_type": "stream",
     "text": [
      "root\n",
      " |-- datetime: string (nullable = true)\n",
      " |-- machineID: long (nullable = true)\n",
      " |-- failure: string (nullable = true)\n",
      "\n"
     ]
    }
   ],
   "source": [
    "# The data was read in using a Pandas data frame. We'll convert \n",
    "# it to pyspark to ensure it is in a Spark usable form for later \n",
    "# manipulations.\n",
    "failures_spark = spark.createDataFrame(failures, \n",
    "                                       verifySchema=False)\n",
    "\n",
    "# Check data type conversions.\n",
    "failures_spark.printSchema()"
   ]
  },
  {
   "cell_type": "markdown",
   "metadata": {},
   "source": [
    "Now we write the spark dataframe to an Azure blob storage container for use in the remaining notebooks of this scenario."
   ]
  },
  {
   "cell_type": "code",
   "execution_count": 33,
   "metadata": {},
   "outputs": [
    {
     "name": "stdout",
     "output_type": "stream",
     "text": [
      "/data/home/ubuntu/PredictiveMaintenance/Code/failure_files.parquet/part-00003-7df5a5aa-ecda-4b82-9ba0-5d7bc403d76e-c000.snappy.parquet\n",
      "/data/home/ubuntu/PredictiveMaintenance/Code/failure_files.parquet/part-00001-7df5a5aa-ecda-4b82-9ba0-5d7bc403d76e-c000.snappy.parquet\n",
      "/data/home/ubuntu/PredictiveMaintenance/Code/failure_files.parquet/part-00002-7df5a5aa-ecda-4b82-9ba0-5d7bc403d76e-c000.snappy.parquet\n",
      "/data/home/ubuntu/PredictiveMaintenance/Code/failure_files.parquet/_SUCCESS\n",
      "/data/home/ubuntu/PredictiveMaintenance/Code/failure_files.parquet/part-00000-7df5a5aa-ecda-4b82-9ba0-5d7bc403d76e-c000.snappy.parquet\n",
      "Failure files saved!\n",
      "Full run took 12.29 minutes\n"
     ]
    }
   ],
   "source": [
    "# Write the failures data set to intermediate storage\n",
    "failures_spark.write.mode('overwrite').parquet(FAILURE_DATA)\n",
    "for blob in az_blob_service.list_blobs(CONTAINER_NAME):\n",
    "    if FAILURE_DATA in blob.name:\n",
    "        az_blob_service.delete_blob(CONTAINER_NAME, blob.name)\n",
    "\n",
    "# upload the entire folder into blob storage\n",
    "for name in glob.iglob(FAILURE_DATA + '/*'):\n",
    "    print(os.path.abspath(name))\n",
    "    az_blob_service.create_blob_from_path(CONTAINER_NAME, name, name)\n",
    "\n",
    "print(\"Failure files saved!\")\n",
    "\n",
    "# Time the notebook execution. \n",
    "# This will only make sense if you \"Run All\" cells\n",
    "toc = time.time()\n",
    "print(\"Full run took %.2f minutes\" % ((toc - tic)/60))\n",
    "\n",
    "#logger.log(\"Data Ingestion Run time\", ((toc - tic)/60)) \n",
    "run.log('Data Ingestion Run time', ((toc - tic)/60))"
   ]
  },
  {
   "cell_type": "code",
   "execution_count": 34,
   "metadata": {},
   "outputs": [],
   "source": [
    "# Mark the run as completed \n",
    "run.complete() "
   ]
  },
  {
   "cell_type": "markdown",
   "metadata": {},
   "source": [
    "## Conclusion\n",
    "\n",
    "We have now downloaded the required data files in csv format. We converted the data into Pandas data frames so we could generate a few graphs to help us understand what was in each data file. Then saved them into an Azure Blob storage container as Spark data frames for use in the remaining analysis steps. The `Code\\2_feature_engineering.ipynb` Jupyter notebook will read these spark data frames from Azure blob and generate the modeling features for out predictive maintenance machine learning model."
   ]
  },
  {
   "cell_type": "code",
   "execution_count": null,
   "metadata": {},
   "outputs": [],
   "source": []
  }
 ],
 "metadata": {
  "kernelspec": {
   "display_name": "Python 3.6 - AzureML",
   "language": "python",
   "name": "python3-azureml"
  },
  "language_info": {
   "codemirror_mode": {
    "name": "ipython",
    "version": 3
   },
   "file_extension": ".py",
   "mimetype": "text/x-python",
   "name": "python",
   "nbconvert_exporter": "python",
   "pygments_lexer": "ipython3",
   "version": "3.6.6"
  }
 },
 "nbformat": 4,
 "nbformat_minor": 2
}
