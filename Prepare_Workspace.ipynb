{
 "cells": [
  {
   "cell_type": "markdown",
   "metadata": {},
   "source": [
    "To start working with Azure ML Service we need to create Azure ML Workspace. It can be done from Azure Dashboard, Azure ML CLI, or using Azure ML Python SDK. Workspacce is created within specific resource group.  "
   ]
  },
  {
   "cell_type": "code",
   "execution_count": 1,
   "metadata": {},
   "outputs": [],
   "source": [
    "SUBSCRIPTION_ID = \"f0ead8e9-14fb-4521-b2cb-4378927736a8\" "
   ]
  },
  {
   "cell_type": "code",
   "execution_count": 2,
   "metadata": {},
   "outputs": [],
   "source": [
    "WORKSPACE = \"PredictiveMaintenanceWS\" "
   ]
  },
  {
   "cell_type": "code",
   "execution_count": 3,
   "metadata": {},
   "outputs": [],
   "source": [
    "RESOURCE_GROUP = \"PredictiveMaintenanceResourceGroup\""
   ]
  },
  {
   "cell_type": "code",
   "execution_count": 4,
   "metadata": {},
   "outputs": [],
   "source": [
    "from azureml.core import Workspace "
   ]
  },
  {
   "cell_type": "code",
   "execution_count": 5,
   "metadata": {},
   "outputs": [],
   "source": [
    "ws = Workspace.create(\n",
    "    name = WORKSPACE, \n",
    "    #auth = AUTH, \n",
    "    subscription_id = SUBSCRIPTION_ID, \n",
    "    resource_group = RESOURCE_GROUP, \n",
    "    location = 'eastus', \n",
    "    create_resource_group = True, # If `create_resource_group = True` resource group will be also created \n",
    "    exist_ok = True \n",
    ") "
   ]
  },
  {
   "cell_type": "code",
   "execution_count": 6,
   "metadata": {},
   "outputs": [
    {
     "name": "stdout",
     "output_type": "stream",
     "text": [
      "{'id': '/subscriptions/f0ead8e9-14fb-4521-b2cb-4378927736a8/resourceGroups/PredictiveMaintenanceResourceGroup/providers/Microsoft.MachineLearningServices/workspaces/PredictiveMaintenanceWS', 'name': 'PredictiveMaintenanceWS', 'location': 'eastus', 'type': 'Microsoft.MachineLearningServices/workspaces', 'workspaceid': 'b27cc95b-e36f-4df5-ae37-e79de4574450', 'description': '', 'friendlyName': 'PredictiveMaintenanceWS', 'creationTime': '2018-12-10T00:11:30.3916755+00:00', 'containerRegistry': '/subscriptions/f0ead8e9-14fb-4521-b2cb-4378927736a8/resourcegroups/predictivemaintenanceresourcegroup/providers/microsoft.containerregistry/registries/predictiacrawjhhhpu', 'keyVault': '/subscriptions/f0ead8e9-14fb-4521-b2cb-4378927736a8/resourcegroups/predictivemaintenanceresourcegroup/providers/microsoft.keyvault/vaults/predictikeyvaultrluvaqvz', 'applicationInsights': '/subscriptions/f0ead8e9-14fb-4521-b2cb-4378927736a8/resourcegroups/predictivemaintenanceresourcegroup/providers/microsoft.insights/components/predictiinsightsutxueufc', 'identityPrincipalId': '0595ac93-758b-46a7-87b1-a361f3c9d20e', 'identityTenantId': '436354cc-eff4-4f30-86d1-ec85032f5ff0', 'identityType': 'SystemAssigned', 'storageAccount': '/subscriptions/f0ead8e9-14fb-4521-b2cb-4378927736a8/resourcegroups/predictivemaintenanceresourcegroup/providers/microsoft.storage/storageaccounts/predictistorageinugjxfr'}\n"
     ]
    }
   ],
   "source": [
    "print(ws.get_details()) "
   ]
  },
  {
   "cell_type": "markdown",
   "metadata": {},
   "source": [
    "It makes sense to write workspace configuration file which can then be used for loading this workspace with simple `from_config(path = , auth = )` function:  "
   ]
  },
  {
   "cell_type": "code",
   "execution_count": 7,
   "metadata": {},
   "outputs": [
    {
     "name": "stdout",
     "output_type": "stream",
     "text": [
      "Wrote the config file PredictiveMaintenanceWSConfig.json to: D:\\Projects\\PredictiveMaintenance\\aml_config\\PredictiveMaintenanceWSConfig.json\n"
     ]
    }
   ],
   "source": [
    "ws.write_config(path = '.', file_name = 'PredictiveMaintenanceWSConfig') "
   ]
  },
  {
   "cell_type": "markdown",
   "metadata": {},
   "source": [
    "The `PredictiveMaintenanceWSConfig.json` file will be written into `aml_config` folder. It has format:  \n",
    "```\n",
    "{\n",
    "     \"subscription_id\": \"<SUBSCRIPTION ID>\", \n",
    "     \"workspace_name\": \"<WORKSPACE>\", \n",
    "     \"resource_group\": \"<RESOURCE GROUP>\" \n",
    "}  \n",
    "```"
   ]
  },
  {
   "cell_type": "code",
   "execution_count": null,
   "metadata": {},
   "outputs": [],
   "source": []
  }
 ],
 "metadata": {
  "kernelspec": {
   "display_name": "Python 3",
   "language": "python",
   "name": "python3"
  },
  "language_info": {
   "codemirror_mode": {
    "name": "ipython",
    "version": 3
   },
   "file_extension": ".py",
   "mimetype": "text/x-python",
   "name": "python",
   "nbconvert_exporter": "python",
   "pygments_lexer": "ipython3",
   "version": "3.7.1"
  }
 },
 "nbformat": 4,
 "nbformat_minor": 2
}
