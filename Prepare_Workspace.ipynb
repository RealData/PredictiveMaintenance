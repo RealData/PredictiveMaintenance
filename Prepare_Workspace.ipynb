{
 "cells": [
  {
   "cell_type": "code",
   "execution_count": 9,
   "metadata": {},
   "outputs": [
    {
     "name": "stdout",
     "output_type": "stream",
     "text": [
      "# conda environments:\r\n",
      "#\r\n",
      "base                     /anaconda\r\n",
      "py35                  *  /anaconda/envs/py35\r\n",
      "py36                     /anaconda/envs/py36\r\n",
      "\r\n"
     ]
    }
   ],
   "source": [
    "!conda env list "
   ]
  },
  {
   "cell_type": "code",
   "execution_count": 11,
   "metadata": {},
   "outputs": [],
   "source": [
    "!source activate py36 "
   ]
  },
  {
   "cell_type": "code",
   "execution_count": 12,
   "metadata": {},
   "outputs": [
    {
     "name": "stdout",
     "output_type": "stream",
     "text": [
      "Requirement already up-to-date: pip in /data/anaconda/envs/py35/lib/python3.5/site-packages (18.1)\r\n"
     ]
    }
   ],
   "source": [
    "!pip install --upgrade pip "
   ]
  },
  {
   "cell_type": "code",
   "execution_count": 13,
   "metadata": {},
   "outputs": [
    {
     "name": "stdout",
     "output_type": "stream",
     "text": [
      "Collecting azureml-defaults\n",
      "  Using cached https://files.pythonhosted.org/packages/bb/4e/27a93da1484f06043f0a6b4d4f3e5ed7212c513eb0d2021cb434c4b2a29d/azureml_defaults-1.0.2-py2.py3-none-any.whl\n",
      "Collecting azureml-core==1.0.2.* (from azureml-defaults)\n",
      "  Using cached https://files.pythonhosted.org/packages/f5/ce/3443d87ba4735de037003413063b7d5d77b00543b787c495b0ab682be254/azureml_core-1.0.2-py2.py3-none-any.whl\n",
      "Requirement already satisfied: applicationinsights>=0.11.0 in /data/anaconda/envs/py35/lib/python3.5/site-packages (from azureml-defaults) (0.11.6)\n",
      "Requirement already satisfied: SecretStorage<3.0.0 in /data/anaconda/envs/py35/lib/python3.5/site-packages (from azureml-core==1.0.2.*->azureml-defaults) (2.3.1)\n",
      "Requirement already satisfied: azure-mgmt-storage>=1.5.0 in /data/anaconda/envs/py35/lib/python3.5/site-packages (from azureml-core==1.0.2.*->azureml-defaults) (2.0.0)\n",
      "Requirement already satisfied: requests>=2.19.1 in /data/anaconda/envs/py35/lib/python3.5/site-packages (from azureml-core==1.0.2.*->azureml-defaults) (2.20.1)\n",
      "Collecting azure-cli-core>=2.0.38 (from azureml-core==1.0.2.*->azureml-defaults)\n",
      "  Using cached https://files.pythonhosted.org/packages/a1/f0/507c83334d7ee7d588fdd1210b6f470446077c62f3e22fdb955f9d3396f8/azure_cli_core-2.0.52-py2.py3-none-any.whl\n",
      "Requirement already satisfied: azure-mgmt-containerregistry>=2.0.0 in /data/anaconda/envs/py35/lib/python3.5/site-packages (from azureml-core==1.0.2.*->azureml-defaults) (2.2.0)\n",
      "Requirement already satisfied: msrestazure>=0.4.33 in /data/anaconda/envs/py35/lib/python3.5/site-packages (from azureml-core==1.0.2.*->azureml-defaults) (0.5.0)\n",
      "Requirement already satisfied: msrest>=0.5.1 in /data/anaconda/envs/py35/lib/python3.5/site-packages (from azureml-core==1.0.2.*->azureml-defaults) (0.5.5)\n",
      "Requirement already satisfied: azure-mgmt-keyvault>=0.40.0 in /data/anaconda/envs/py35/lib/python3.5/site-packages (from azureml-core==1.0.2.*->azureml-defaults) (1.1.0)\n",
      "Requirement already satisfied: six>=1.11.0 in /data/anaconda/envs/py35/lib/python3.5/site-packages (from azureml-core==1.0.2.*->azureml-defaults) (1.11.0)\n",
      "Requirement already satisfied: urllib3<1.24,>=1.23 in /data/anaconda/envs/py35/lib/python3.5/site-packages (from azureml-core==1.0.2.*->azureml-defaults) (1.23)\n",
      "Requirement already satisfied: jsonpickle in /data/anaconda/envs/py35/lib/python3.5/site-packages (from azureml-core==1.0.2.*->azureml-defaults) (1.0)\n",
      "Requirement already satisfied: ruamel.yaml<=0.15.51,>=0.15.35 in /data/anaconda/envs/py35/lib/python3.5/site-packages (from azureml-core==1.0.2.*->azureml-defaults) (0.15.51)\n",
      "Requirement already satisfied: cryptography!=1.9,!=2.0.*,!=2.1.*,!=2.2.* in /data/anaconda/envs/py35/lib/python3.5/site-packages (from azureml-core==1.0.2.*->azureml-defaults) (2.3.1)\n",
      "Requirement already satisfied: ndg-httpsclient in /data/anaconda/envs/py35/lib/python3.5/site-packages (from azureml-core==1.0.2.*->azureml-defaults) (0.5.1)\n",
      "Requirement already satisfied: azure-storage-nspkg>=3.0.0 in /data/anaconda/envs/py35/lib/python3.5/site-packages (from azureml-core==1.0.2.*->azureml-defaults) (3.0.0)\n",
      "Requirement already satisfied: pytz in /data/anaconda/envs/py35/lib/python3.5/site-packages (from azureml-core==1.0.2.*->azureml-defaults) (2018.4)\n",
      "Requirement already satisfied: azure-mgmt-resource>=1.2.1 in /data/anaconda/envs/py35/lib/python3.5/site-packages (from azureml-core==1.0.2.*->azureml-defaults) (2.0.0)\n",
      "Requirement already satisfied: backports.tempfile in /data/anaconda/envs/py35/lib/python3.5/site-packages (from azureml-core==1.0.2.*->azureml-defaults) (1.0)\n",
      "Requirement already satisfied: contextlib2 in /data/anaconda/envs/py35/lib/python3.5/site-packages (from azureml-core==1.0.2.*->azureml-defaults) (0.5.5)\n",
      "Requirement already satisfied: python-dateutil>=2.7.3 in /data/anaconda/envs/py35/lib/python3.5/site-packages (from azureml-core==1.0.2.*->azureml-defaults) (2.7.3)\n",
      "Collecting pathspec (from azureml-core==1.0.2.*->azureml-defaults)\n",
      "Requirement already satisfied: azure-storage-blob>=1.1.0 in /data/anaconda/envs/py35/lib/python3.5/site-packages (from azureml-core==1.0.2.*->azureml-defaults) (1.3.1)\n",
      "Requirement already satisfied: azure-mgmt-authorization>=0.40.0 in /data/anaconda/envs/py35/lib/python3.5/site-packages (from azureml-core==1.0.2.*->azureml-defaults) (0.50.0)\n",
      "Collecting docker (from azureml-core==1.0.2.*->azureml-defaults)\n",
      "  Using cached https://files.pythonhosted.org/packages/e1/58/938fbc7acd98302ca4872f5eab8ab811498e342ab5aec0c1609f22e0aeda/docker-3.6.0-py2.py3-none-any.whl\n",
      "Requirement already satisfied: azure-common>=1.1.12 in /data/anaconda/envs/py35/lib/python3.5/site-packages (from azureml-core==1.0.2.*->azureml-defaults) (1.1.15)\n",
      "Requirement already satisfied: azure-storage-common>=1.1.0 in /data/anaconda/envs/py35/lib/python3.5/site-packages (from azureml-core==1.0.2.*->azureml-defaults) (1.3.0)\n",
      "Requirement already satisfied: PyJWT in /data/anaconda/envs/py35/lib/python3.5/site-packages (from azureml-core==1.0.2.*->azureml-defaults) (1.6.4)\n",
      "Requirement already satisfied: azure-graphrbac>=0.40.0 in /data/anaconda/envs/py35/lib/python3.5/site-packages (from azureml-core==1.0.2.*->azureml-defaults) (0.40.0)\n",
      "Collecting azure-cli-profile>=2.0.26 (from azureml-core==1.0.2.*->azureml-defaults)\n",
      "  Using cached https://files.pythonhosted.org/packages/c2/d3/fdc722a1b61857250a76027d6d73a50182c6d85132ddd65600a8993574ce/azure_cli_profile-2.1.2-py2.py3-none-any.whl\n",
      "Requirement already satisfied: azure-mgmt-nspkg>=2.0.0 in /data/anaconda/envs/py35/lib/python3.5/site-packages (from azure-mgmt-storage>=1.5.0->azureml-core==1.0.2.*->azureml-defaults) (2.0.0)\n",
      "Requirement already satisfied: certifi>=2017.4.17 in /data/anaconda/envs/py35/lib/python3.5/site-packages (from requests>=2.19.1->azureml-core==1.0.2.*->azureml-defaults) (2018.8.24)\n",
      "Requirement already satisfied: chardet<3.1.0,>=3.0.2 in /data/anaconda/envs/py35/lib/python3.5/site-packages (from requests>=2.19.1->azureml-core==1.0.2.*->azureml-defaults) (3.0.4)\n",
      "Requirement already satisfied: idna<2.8,>=2.5 in /data/anaconda/envs/py35/lib/python3.5/site-packages (from requests>=2.19.1->azureml-core==1.0.2.*->azureml-defaults) (2.6)\n",
      "Requirement already satisfied: tabulate<=0.8.2,>=0.7.7 in /data/anaconda/envs/py35/lib/python3.5/site-packages (from azure-cli-core>=2.0.38->azureml-core==1.0.2.*->azureml-defaults) (0.8.2)\n",
      "Collecting paramiko>=2.0.8 (from azure-cli-core>=2.0.38->azureml-core==1.0.2.*->azureml-defaults)\n",
      "  Using cached https://files.pythonhosted.org/packages/cf/ae/94e70d49044ccc234bfdba20114fa947d7ba6eb68a2e452d89b920e62227/paramiko-2.4.2-py2.py3-none-any.whl\n",
      "Collecting pyyaml~=3.13 (from azure-cli-core>=2.0.38->azureml-core==1.0.2.*->azureml-defaults)\n",
      "Requirement already satisfied: pygments in /data/anaconda/envs/py35/lib/python3.5/site-packages (from azure-cli-core>=2.0.38->azureml-core==1.0.2.*->azureml-defaults) (2.2.0)\n",
      "Requirement already satisfied: azure-cli-telemetry in /data/anaconda/envs/py35/lib/python3.5/site-packages (from azure-cli-core>=2.0.38->azureml-core==1.0.2.*->azureml-defaults) (1.0.0)\n",
      "Requirement already satisfied: jmespath in /data/anaconda/envs/py35/lib/python3.5/site-packages (from azure-cli-core>=2.0.38->azureml-core==1.0.2.*->azureml-defaults) (0.9.3)\n",
      "Requirement already satisfied: colorama>=0.3.9 in /data/anaconda/envs/py35/lib/python3.5/site-packages (from azure-cli-core>=2.0.38->azureml-core==1.0.2.*->azureml-defaults) (0.3.9)\n",
      "Requirement already satisfied: humanfriendly>=4.7 in /data/anaconda/envs/py35/lib/python3.5/site-packages (from azure-cli-core>=2.0.38->azureml-core==1.0.2.*->azureml-defaults) (4.17)\n",
      "Collecting knack==0.5.1 (from azure-cli-core>=2.0.38->azureml-core==1.0.2.*->azureml-defaults)\n",
      "  Using cached https://files.pythonhosted.org/packages/27/46/0a6d7471efcc519e392640f6933c0f644bbf602971e64797108292cb3623/knack-0.5.1-py2.py3-none-any.whl\n",
      "Requirement already satisfied: antlr4-python3-runtime; python_version >= \"3.0\" in /data/anaconda/envs/py35/lib/python3.5/site-packages (from azure-cli-core>=2.0.38->azureml-core==1.0.2.*->azureml-defaults) (4.7.1)\n",
      "Requirement already satisfied: wheel==0.30.0 in /data/anaconda/envs/py35/lib/python3.5/site-packages (from azure-cli-core>=2.0.38->azureml-core==1.0.2.*->azureml-defaults) (0.30.0)\n"
     ]
    },
    {
     "name": "stdout",
     "output_type": "stream",
     "text": [
      "Requirement already satisfied: pyopenssl>=17.1.0 in /data/anaconda/envs/py35/lib/python3.5/site-packages (from azure-cli-core>=2.0.38->azureml-core==1.0.2.*->azureml-defaults) (18.0.0)\n",
      "Requirement already satisfied: azure-cli-nspkg>=2.0.0 in /data/anaconda/envs/py35/lib/python3.5/site-packages (from azure-cli-core>=2.0.38->azureml-core==1.0.2.*->azureml-defaults) (3.0.3)\n",
      "Requirement already satisfied: adal>=1.2.0 in /data/anaconda/envs/py35/lib/python3.5/site-packages (from azure-cli-core>=2.0.38->azureml-core==1.0.2.*->azureml-defaults) (1.2.0)\n",
      "Requirement already satisfied: argcomplete>=1.8.0 in /data/anaconda/envs/py35/lib/python3.5/site-packages (from azure-cli-core>=2.0.38->azureml-core==1.0.2.*->azureml-defaults) (1.9.4)\n",
      "Requirement already satisfied: pip in /data/anaconda/envs/py35/lib/python3.5/site-packages (from azure-cli-core>=2.0.38->azureml-core==1.0.2.*->azureml-defaults) (18.1)\n",
      "Requirement already satisfied: isodate>=0.6.0 in /data/anaconda/envs/py35/lib/python3.5/site-packages (from msrest>=0.5.1->azureml-core==1.0.2.*->azureml-defaults) (0.6.0)\n",
      "Requirement already satisfied: requests-oauthlib>=0.5.0 in /data/anaconda/envs/py35/lib/python3.5/site-packages (from msrest>=0.5.1->azureml-core==1.0.2.*->azureml-defaults) (1.0.0)\n",
      "Requirement already satisfied: asn1crypto>=0.21.0 in /data/anaconda/envs/py35/lib/python3.5/site-packages (from cryptography!=1.9,!=2.0.*,!=2.1.*,!=2.2.*->azureml-core==1.0.2.*->azureml-defaults) (0.24.0)\n",
      "Requirement already satisfied: cffi!=1.11.3,>=1.7 in /data/anaconda/envs/py35/lib/python3.5/site-packages (from cryptography!=1.9,!=2.0.*,!=2.1.*,!=2.2.*->azureml-core==1.0.2.*->azureml-defaults) (1.11.5)\n",
      "Requirement already satisfied: pyasn1>=0.1.1 in /data/anaconda/envs/py35/lib/python3.5/site-packages (from ndg-httpsclient->azureml-core==1.0.2.*->azureml-defaults) (0.4.4)\n",
      "Requirement already satisfied: azure-nspkg>=2.0.0 in /data/anaconda/envs/py35/lib/python3.5/site-packages (from azure-storage-nspkg>=3.0.0->azureml-core==1.0.2.*->azureml-defaults) (2.0.0)\n",
      "Requirement already satisfied: backports.weakref in /data/anaconda/envs/py35/lib/python3.5/site-packages (from backports.tempfile->azureml-core==1.0.2.*->azureml-defaults) (1.0.post1)\n",
      "Collecting docker-pycreds>=0.3.0 (from docker->azureml-core==1.0.2.*->azureml-defaults)\n",
      "  Using cached https://files.pythonhosted.org/packages/f5/e8/f6bd1eee09314e7e6dee49cbe2c5e22314ccdb38db16c9fc72d2fa80d054/docker_pycreds-0.4.0-py2.py3-none-any.whl\n",
      "Collecting websocket-client>=0.32.0 (from docker->azureml-core==1.0.2.*->azureml-defaults)\n",
      "  Using cached https://files.pythonhosted.org/packages/26/2d/f749a5c82f6192d77ed061a38e02001afcba55fe8477336d26a950ab17ce/websocket_client-0.54.0-py2.py3-none-any.whl\n",
      "Collecting azure-cli-command-modules-nspkg>=2.0.0 (from azure-cli-profile>=2.0.26->azureml-core==1.0.2.*->azureml-defaults)\n",
      "  Using cached https://files.pythonhosted.org/packages/e6/c9/cdeeeabc550848e2a07caa66cba28aa057d23b6feaa824ceafd32c3f2226/azure_cli_command_modules_nspkg-2.0.2-py2.py3-none-any.whl\n",
      "Collecting pynacl>=1.0.1 (from paramiko>=2.0.8->azure-cli-core>=2.0.38->azureml-core==1.0.2.*->azureml-defaults)\n",
      "  Using cached https://files.pythonhosted.org/packages/27/15/2cd0a203f318c2240b42cd9dd13c931ddd61067809fee3479f44f086103e/PyNaCl-1.3.0-cp34-abi3-manylinux1_x86_64.whl\n",
      "Collecting bcrypt>=3.1.3 (from paramiko>=2.0.8->azure-cli-core>=2.0.38->azureml-core==1.0.2.*->azureml-defaults)\n",
      "  Using cached https://files.pythonhosted.org/packages/72/8d/57da727cbb4ddf0295b0665a93bd8f46fbbd2a48b76cbb0896ca7d27301f/bcrypt-3.1.4-cp35-cp35m-manylinux1_x86_64.whl\n",
      "Requirement already satisfied: portalocker==1.2.1 in /data/anaconda/envs/py35/lib/python3.5/site-packages (from azure-cli-telemetry->azure-cli-core>=2.0.38->azureml-core==1.0.2.*->azureml-defaults) (1.2.1)\n",
      "Requirement already satisfied: oauthlib>=0.6.2 in /data/anaconda/envs/py35/lib/python3.5/site-packages (from requests-oauthlib>=0.5.0->msrest>=0.5.1->azureml-core==1.0.2.*->azureml-defaults) (2.1.0)\n",
      "Requirement already satisfied: pycparser in /data/anaconda/envs/py35/lib/python3.5/site-packages (from cffi!=1.11.3,>=1.7->cryptography!=1.9,!=2.0.*,!=2.1.*,!=2.2.*->azureml-core==1.0.2.*->azureml-defaults) (2.18)\n",
      "Installing collected packages: pynacl, bcrypt, paramiko, pyyaml, knack, azure-cli-core, pathspec, docker-pycreds, websocket-client, docker, azure-cli-command-modules-nspkg, azure-cli-profile, azureml-core, azureml-defaults\n",
      "  Found existing installation: PyYAML 3.12\n",
      "\u001b[31mCannot uninstall 'PyYAML'. It is a distutils installed project and thus we cannot accurately determine which files belong to it which would lead to only a partial uninstall.\u001b[0m\n"
     ]
    }
   ],
   "source": [
    "!pip install azureml-defaults"
   ]
  },
  {
   "cell_type": "markdown",
   "metadata": {},
   "source": [
    "To start working with Azure ML Service we need to create Azure ML Workspace. It can be done from Azure Dashboard, Azure ML CLI, or using Azure ML Python SDK. Workspacce is created within specific resource group.  "
   ]
  },
  {
   "cell_type": "code",
   "execution_count": 1,
   "metadata": {},
   "outputs": [],
   "source": [
    "SUBSCRIPTION_ID = \"f0ead8e9-14fb-4521-b2cb-4378927736a8\" "
   ]
  },
  {
   "cell_type": "code",
   "execution_count": 2,
   "metadata": {},
   "outputs": [],
   "source": [
    "WORKSPACE = \"PredictiveMaintenanceWS\" "
   ]
  },
  {
   "cell_type": "code",
   "execution_count": 3,
   "metadata": {},
   "outputs": [],
   "source": [
    "RESOURCE_GROUP = \"PredictiveMaintenanceResourceGroup\""
   ]
  },
  {
   "cell_type": "code",
   "execution_count": 4,
   "metadata": {},
   "outputs": [],
   "source": [
    "from azureml.core import Workspace "
   ]
  },
  {
   "cell_type": "code",
   "execution_count": 6,
   "metadata": {},
   "outputs": [],
   "source": [
    "ws = Workspace.create(\n",
    "    name = WORKSPACE, \n",
    "    #auth = AUTH, \n",
    "    subscription_id = SUBSCRIPTION_ID, \n",
    "    resource_group = RESOURCE_GROUP, \n",
    "    location = 'eastus', \n",
    "    create_resource_group = True, # If `create_resource_group = True` resource group will be also created \n",
    "    exist_ok = True \n",
    ") "
   ]
  },
  {
   "cell_type": "markdown",
   "metadata": {},
   "source": [
    "print(ws.get_details()) "
   ]
  },
  {
   "cell_type": "markdown",
   "metadata": {},
   "source": [
    "It makes sense to write workspace configuration file which can then be used for loading this workspace with simple `from_config(path = , auth = )` function:  "
   ]
  },
  {
   "cell_type": "code",
   "execution_count": 7,
   "metadata": {},
   "outputs": [
    {
     "name": "stdout",
     "output_type": "stream",
     "text": [
      "Wrote the config file PredictiveMaintenanceWSConfig.json to: /data/home/ubuntu/PredictiveMaintenance/aml_config/PredictiveMaintenanceWSConfig.json\n"
     ]
    }
   ],
   "source": [
    "ws.write_config(path = '.', file_name = 'PredictiveMaintenanceWSConfig') "
   ]
  },
  {
   "cell_type": "markdown",
   "metadata": {},
   "source": [
    "The `PredictiveMaintenanceWSConfig.json` file will be written into `aml_config` folder. It has format:  \n",
    "```\n",
    "{\n",
    "     \"subscription_id\": \"<SUBSCRIPTION ID>\", \n",
    "     \"workspace_name\": \"<WORKSPACE>\", \n",
    "     \"resource_group\": \"<RESOURCE GROUP>\" \n",
    "}  \n",
    "```"
   ]
  },
  {
   "cell_type": "code",
   "execution_count": null,
   "metadata": {},
   "outputs": [],
   "source": []
  }
 ],
 "metadata": {
  "kernelspec": {
   "display_name": "Python 3.6 - AzureML",
   "language": "python",
   "name": "python3-azureml"
  },
  "language_info": {
   "codemirror_mode": {
    "name": "ipython",
    "version": 3
   },
   "file_extension": ".py",
   "mimetype": "text/x-python",
   "name": "python",
   "nbconvert_exporter": "python",
   "pygments_lexer": "ipython3",
   "version": "3.6.6"
  }
 },
 "nbformat": 4,
 "nbformat_minor": 2
}
